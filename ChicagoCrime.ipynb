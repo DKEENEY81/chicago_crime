{
 "cells": [
  {
   "cell_type": "code",
   "execution_count": 1,
   "metadata": {},
   "outputs": [],
   "source": [
    "from requests import get\n",
    "import pandas as pd\n",
    "import json"
   ]
  },
  {
   "cell_type": "code",
   "execution_count": 28,
   "metadata": {},
   "outputs": [
    {
     "name": "stdout",
     "output_type": "stream",
     "text": [
      "200\n"
     ]
    }
   ],
   "source": [
    "url = \"https://data.cityofchicago.org/resource/crimes.json?$order=date%20DESC&$limit=1250000\"\n",
    "response = get(url, headers={\"X-App-Token\":\"eQexwCiZsieQyjfCAdnzDBlUs\"})\n",
    "print(response.status_code)"
   ]
  },
  {
   "cell_type": "code",
   "execution_count": 29,
   "metadata": {},
   "outputs": [],
   "source": [
    "def get_info():\n",
    "    if response.status_code == 200:\n",
    "        return json.loads(response.content.decode('utf-8'))\n",
    "    else:\n",
    "        return None\n",
    "\n",
    "data = get_info()"
   ]
  },
  {
   "cell_type": "code",
   "execution_count": 30,
   "metadata": {},
   "outputs": [],
   "source": [
    "Crime = pd.DataFrame(data)"
   ]
  },
  {
   "cell_type": "code",
   "execution_count": 31,
   "metadata": {},
   "outputs": [
    {
     "name": "stdout",
     "output_type": "stream",
     "text": [
      "<class 'pandas.core.frame.DataFrame'>\n",
      "RangeIndex: 1250000 entries, 0 to 1249999\n",
      "Data columns (total 22 columns):\n",
      "arrest                  1250000 non-null bool\n",
      "beat                    1250000 non-null object\n",
      "block                   1250000 non-null object\n",
      "case_number             1250000 non-null object\n",
      "community_area          1249998 non-null object\n",
      "date                    1250000 non-null object\n",
      "description             1250000 non-null object\n",
      "district                1249999 non-null object\n",
      "domestic                1250000 non-null bool\n",
      "fbi_code                1250000 non-null object\n",
      "id                      1250000 non-null object\n",
      "iucr                    1250000 non-null object\n",
      "latitude                1216157 non-null object\n",
      "location                1216157 non-null object\n",
      "location_description    1246070 non-null object\n",
      "longitude               1216157 non-null object\n",
      "primary_type            1250000 non-null object\n",
      "updated_on              1250000 non-null object\n",
      "ward                    1249987 non-null object\n",
      "x_coordinate            1216157 non-null object\n",
      "y_coordinate            1216157 non-null object\n",
      "year                    1250000 non-null object\n",
      "dtypes: bool(2), object(20)\n",
      "memory usage: 193.1+ MB\n"
     ]
    }
   ],
   "source": [
    "Crime.info()"
   ]
  },
  {
   "cell_type": "code",
   "execution_count": 32,
   "metadata": {},
   "outputs": [
    {
     "data": {
      "text/plain": [
       "'2014-09-22T19:22:00.000'"
      ]
     },
     "execution_count": 32,
     "metadata": {},
     "output_type": "execute_result"
    }
   ],
   "source": [
    "Crime.date.min()"
   ]
  },
  {
   "cell_type": "code",
   "execution_count": 34,
   "metadata": {},
   "outputs": [
    {
     "data": {
      "text/plain": [
       "'2019-06-11T23:59:00.000'"
      ]
     },
     "execution_count": 34,
     "metadata": {},
     "output_type": "execute_result"
    }
   ],
   "source": [
    "Crime.date.max()"
   ]
  },
  {
   "cell_type": "code",
   "execution_count": null,
   "metadata": {},
   "outputs": [],
   "source": []
  }
 ],
 "metadata": {
  "kernelspec": {
   "display_name": "Python 3",
   "language": "python",
   "name": "python3"
  },
  "language_info": {
   "codemirror_mode": {
    "name": "ipython",
    "version": 3
   },
   "file_extension": ".py",
   "mimetype": "text/x-python",
   "name": "python",
   "nbconvert_exporter": "python",
   "pygments_lexer": "ipython3",
   "version": "3.7.3"
  }
 },
 "nbformat": 4,
 "nbformat_minor": 2
}
